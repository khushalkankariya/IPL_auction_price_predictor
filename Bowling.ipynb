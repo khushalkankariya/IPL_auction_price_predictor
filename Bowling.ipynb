{
 "cells": [
  {
   "cell_type": "code",
   "execution_count": 142,
   "id": "e7948f03",
   "metadata": {},
   "outputs": [
    {
     "data": {
      "text/html": [
       "<div>\n",
       "<style scoped>\n",
       "    .dataframe tbody tr th:only-of-type {\n",
       "        vertical-align: middle;\n",
       "    }\n",
       "\n",
       "    .dataframe tbody tr th {\n",
       "        vertical-align: top;\n",
       "    }\n",
       "\n",
       "    .dataframe thead th {\n",
       "        text-align: right;\n",
       "    }\n",
       "</style>\n",
       "<table border=\"1\" class=\"dataframe\">\n",
       "  <thead>\n",
       "    <tr style=\"text-align: right;\">\n",
       "      <th></th>\n",
       "      <th>Name</th>\n",
       "      <th>Type</th>\n",
       "      <th>MatchPlayed</th>\n",
       "      <th>BowlingAVG</th>\n",
       "      <th>EconomyRate</th>\n",
       "      <th>Country</th>\n",
       "      <th>Base Price</th>\n",
       "      <th>Sold Price</th>\n",
       "      <th>Wickets</th>\n",
       "    </tr>\n",
       "  </thead>\n",
       "  <tbody>\n",
       "    <tr>\n",
       "      <th>0</th>\n",
       "      <td>Adam Milne</td>\n",
       "      <td>Bowler</td>\n",
       "      <td>9</td>\n",
       "      <td>44.00</td>\n",
       "      <td>9.62</td>\n",
       "      <td>0</td>\n",
       "      <td>1.50</td>\n",
       "      <td>1.9</td>\n",
       "      <td>7</td>\n",
       "    </tr>\n",
       "    <tr>\n",
       "      <th>1</th>\n",
       "      <td>Alzarri Joseph</td>\n",
       "      <td>Bowler</td>\n",
       "      <td>3</td>\n",
       "      <td>14.50</td>\n",
       "      <td>10.03</td>\n",
       "      <td>0</td>\n",
       "      <td>0.75</td>\n",
       "      <td>2.4</td>\n",
       "      <td>6</td>\n",
       "    </tr>\n",
       "    <tr>\n",
       "      <th>2</th>\n",
       "      <td>Avesh Khan</td>\n",
       "      <td>Bowler</td>\n",
       "      <td>25</td>\n",
       "      <td>25.82</td>\n",
       "      <td>8.23</td>\n",
       "      <td>1</td>\n",
       "      <td>0.20</td>\n",
       "      <td>10.0</td>\n",
       "      <td>29</td>\n",
       "    </tr>\n",
       "    <tr>\n",
       "      <th>3</th>\n",
       "      <td>Basil Thampi</td>\n",
       "      <td>Bowler</td>\n",
       "      <td>20</td>\n",
       "      <td>40.82</td>\n",
       "      <td>9.79</td>\n",
       "      <td>1</td>\n",
       "      <td>0.30</td>\n",
       "      <td>0.3</td>\n",
       "      <td>17</td>\n",
       "    </tr>\n",
       "    <tr>\n",
       "      <th>4</th>\n",
       "      <td>Bhuvneshwar Kumar</td>\n",
       "      <td>Bowler</td>\n",
       "      <td>132</td>\n",
       "      <td>25.26</td>\n",
       "      <td>7.30</td>\n",
       "      <td>1</td>\n",
       "      <td>2.00</td>\n",
       "      <td>4.2</td>\n",
       "      <td>142</td>\n",
       "    </tr>\n",
       "  </tbody>\n",
       "</table>\n",
       "</div>"
      ],
      "text/plain": [
       "                Name     Type  MatchPlayed  BowlingAVG  EconomyRate  Country  \\\n",
       "0         Adam Milne  Bowler             9       44.00         9.62        0   \n",
       "1     Alzarri Joseph  Bowler             3       14.50        10.03        0   \n",
       "2         Avesh Khan  Bowler            25       25.82         8.23        1   \n",
       "3       Basil Thampi  Bowler            20       40.82         9.79        1   \n",
       "4  Bhuvneshwar Kumar  Bowler           132       25.26         7.30        1   \n",
       "\n",
       "   Base Price  Sold Price  Wickets  \n",
       "0        1.50         1.9        7  \n",
       "1        0.75         2.4        6  \n",
       "2        0.20        10.0       29  \n",
       "3        0.30         0.3       17  \n",
       "4        2.00         4.2      142  "
      ]
     },
     "execution_count": 142,
     "metadata": {},
     "output_type": "execute_result"
    }
   ],
   "source": [
    "import pandas as pd\n",
    "df = pd.read_csv('Data/bowler.csv')\n",
    "df.head()"
   ]
  },
  {
   "cell_type": "code",
   "execution_count": 143,
   "id": "18cb2fd8",
   "metadata": {},
   "outputs": [],
   "source": [
    "bowler=df.drop(['Name',\"Type\"], axis=\"columns\")"
   ]
  },
  {
   "cell_type": "code",
   "execution_count": 144,
   "id": "2b673432",
   "metadata": {},
   "outputs": [
    {
     "data": {
      "text/html": [
       "<div>\n",
       "<style scoped>\n",
       "    .dataframe tbody tr th:only-of-type {\n",
       "        vertical-align: middle;\n",
       "    }\n",
       "\n",
       "    .dataframe tbody tr th {\n",
       "        vertical-align: top;\n",
       "    }\n",
       "\n",
       "    .dataframe thead th {\n",
       "        text-align: right;\n",
       "    }\n",
       "</style>\n",
       "<table border=\"1\" class=\"dataframe\">\n",
       "  <thead>\n",
       "    <tr style=\"text-align: right;\">\n",
       "      <th></th>\n",
       "      <th>MatchPlayed</th>\n",
       "      <th>BowlingAVG</th>\n",
       "      <th>EconomyRate</th>\n",
       "      <th>Country</th>\n",
       "      <th>Base Price</th>\n",
       "      <th>Sold Price</th>\n",
       "      <th>Wickets</th>\n",
       "    </tr>\n",
       "  </thead>\n",
       "  <tbody>\n",
       "    <tr>\n",
       "      <th>0</th>\n",
       "      <td>9</td>\n",
       "      <td>44.00</td>\n",
       "      <td>9.62</td>\n",
       "      <td>0</td>\n",
       "      <td>1.50</td>\n",
       "      <td>1.9</td>\n",
       "      <td>7</td>\n",
       "    </tr>\n",
       "    <tr>\n",
       "      <th>1</th>\n",
       "      <td>3</td>\n",
       "      <td>14.50</td>\n",
       "      <td>10.03</td>\n",
       "      <td>0</td>\n",
       "      <td>0.75</td>\n",
       "      <td>2.4</td>\n",
       "      <td>6</td>\n",
       "    </tr>\n",
       "    <tr>\n",
       "      <th>2</th>\n",
       "      <td>25</td>\n",
       "      <td>25.82</td>\n",
       "      <td>8.23</td>\n",
       "      <td>1</td>\n",
       "      <td>0.20</td>\n",
       "      <td>10.0</td>\n",
       "      <td>29</td>\n",
       "    </tr>\n",
       "    <tr>\n",
       "      <th>3</th>\n",
       "      <td>20</td>\n",
       "      <td>40.82</td>\n",
       "      <td>9.79</td>\n",
       "      <td>1</td>\n",
       "      <td>0.30</td>\n",
       "      <td>0.3</td>\n",
       "      <td>17</td>\n",
       "    </tr>\n",
       "    <tr>\n",
       "      <th>4</th>\n",
       "      <td>132</td>\n",
       "      <td>25.26</td>\n",
       "      <td>7.30</td>\n",
       "      <td>1</td>\n",
       "      <td>2.00</td>\n",
       "      <td>4.2</td>\n",
       "      <td>142</td>\n",
       "    </tr>\n",
       "  </tbody>\n",
       "</table>\n",
       "</div>"
      ],
      "text/plain": [
       "   MatchPlayed  BowlingAVG  EconomyRate  Country  Base Price  Sold Price  \\\n",
       "0            9       44.00         9.62        0        1.50         1.9   \n",
       "1            3       14.50        10.03        0        0.75         2.4   \n",
       "2           25       25.82         8.23        1        0.20        10.0   \n",
       "3           20       40.82         9.79        1        0.30         0.3   \n",
       "4          132       25.26         7.30        1        2.00         4.2   \n",
       "\n",
       "   Wickets  \n",
       "0        7  \n",
       "1        6  \n",
       "2       29  \n",
       "3       17  \n",
       "4      142  "
      ]
     },
     "execution_count": 144,
     "metadata": {},
     "output_type": "execute_result"
    }
   ],
   "source": [
    "bowler.head()"
   ]
  },
  {
   "cell_type": "code",
   "execution_count": 145,
   "id": "c4432703",
   "metadata": {},
   "outputs": [
    {
     "data": {
      "text/plain": [
       "MatchPlayed    39\n",
       "BowlingAVG     39\n",
       "EconomyRate    39\n",
       "Country        39\n",
       "Base Price     39\n",
       "Sold Price     39\n",
       "Wickets        39\n",
       "dtype: int64"
      ]
     },
     "execution_count": 145,
     "metadata": {},
     "output_type": "execute_result"
    }
   ],
   "source": [
    "bowler.count()"
   ]
  },
  {
   "cell_type": "code",
   "execution_count": 146,
   "id": "a89c9702",
   "metadata": {},
   "outputs": [
    {
     "name": "stdout",
     "output_type": "stream",
     "text": [
      "<class 'pandas.core.frame.DataFrame'>\n",
      "RangeIndex: 39 entries, 0 to 38\n",
      "Data columns (total 7 columns):\n",
      " #   Column       Non-Null Count  Dtype  \n",
      "---  ------       --------------  -----  \n",
      " 0   MatchPlayed  39 non-null     int64  \n",
      " 1   BowlingAVG   39 non-null     float64\n",
      " 2   EconomyRate  39 non-null     float64\n",
      " 3   Country      39 non-null     int64  \n",
      " 4   Base Price   39 non-null     float64\n",
      " 5   Sold Price   39 non-null     float64\n",
      " 6   Wickets      39 non-null     int64  \n",
      "dtypes: float64(4), int64(3)\n",
      "memory usage: 2.3 KB\n"
     ]
    }
   ],
   "source": [
    "bowler.info()"
   ]
  },
  {
   "cell_type": "code",
   "execution_count": 147,
   "id": "3d13e3cf",
   "metadata": {},
   "outputs": [],
   "source": [
    "X = bowler.drop(['Sold Price'], axis=1)"
   ]
  },
  {
   "cell_type": "code",
   "execution_count": 148,
   "id": "ee29cc1a",
   "metadata": {},
   "outputs": [],
   "source": [
    "y = bowler['Sold Price']"
   ]
  },
  {
   "cell_type": "code",
   "execution_count": 150,
   "id": "a9af7875",
   "metadata": {},
   "outputs": [
    {
     "name": "stdout",
     "output_type": "stream",
     "text": [
      "columns: Index(['Name', 'Type', 'MatchPlayed', 'BowlingAVG', 'EconomyRate', 'Country',\n",
      "       'Base Price', 'Sold Price', 'Wickets'],\n",
      "      dtype='object')\n",
      "features:\n",
      "    MatchPlayed  BowlingAVG  EconomyRate  Country  Base Price  Wickets\n",
      "0            9       44.00         9.62        0        1.50        7\n",
      "1            3       14.50        10.03        0        0.75        6\n",
      "2           25       25.82         8.23        1        0.20       29\n",
      "3           20       40.82         9.79        1        0.30       17\n",
      "4          132       25.26         7.30        1        2.00      142\n",
      "Actual Output:\n",
      " 0     1.9\n",
      "1     2.4\n",
      "2    10.0\n",
      "3     0.3\n",
      "4     4.2\n",
      "Name: Sold Price, dtype: float64\n"
     ]
    }
   ],
   "source": [
    "print(\"columns:\", df.columns)\n",
    "   \n",
    "# # storing the feature matrix (X) and output (y)\n",
    "# X = bowler.drop(['Sold Price'])\n",
    "# y = bowler(['Sold Price'])\n",
    "   \n",
    "# printing first 5 rows of feature matrix\n",
    "print(\"features:\\n\", X.head())\n",
    "   \n",
    "# printing first 5 values of output\n",
    "print(\"Actual Output:\\n\", y.head())"
   ]
  },
  {
   "cell_type": "code",
   "execution_count": 47,
   "id": "22386632",
   "metadata": {},
   "outputs": [],
   "source": [
    "# import sklearn\n",
    "# import numpy as np\n",
    " \n",
    "# # splitting X and y into training and testing sets\n",
    "# from sklearn.model_selection import train_test_split\n",
    "# X_train, X_test, y_train, y_test = train_test_split(X, y, test_size=0.4, random_state=1)\n",
    " \n",
    "# # printing the shapes of the new X objects\n",
    "# print(X_train.shape)\n",
    "# print(X_test.shape)\n",
    " \n",
    "# # printing the shapes of the new y objects\n",
    "# print(y_train.shape)\n",
    "# print(y_test.shape)"
   ]
  },
  {
   "cell_type": "code",
   "execution_count": 48,
   "id": "2bb53b66",
   "metadata": {},
   "outputs": [
    {
     "name": "stdout",
     "output_type": "stream",
     "text": [
      "<class 'pandas.core.frame.DataFrame'>\n"
     ]
    }
   ],
   "source": [
    "from sklearn.model_selection import StratifiedShuffleSplit\n",
    "split = StratifiedShuffleSplit(n_splits=1, test_size=0.2, random_state=5)\n",
    "for train_index, test_index in split.split(bowler, bowler['Country']):\n",
    "    strat_train_set = bowler.iloc[train_index]\n",
    "    strat_test_set = bowler.iloc[test_index]\n",
    "    \n",
    "print(type(strat_test_set))"
   ]
  },
  {
   "cell_type": "code",
   "execution_count": 49,
   "id": "212a4f70",
   "metadata": {},
   "outputs": [
    {
     "data": {
      "text/plain": [
       "array([17,  3, 35,  4, 12,  6, 23, 22,  2, 14,  1,  9,  7, 28, 25, 29,  5,\n",
       "       37, 13, 36, 30,  8, 16, 19, 32, 38, 21, 15,  0, 26, 34],\n",
       "      dtype=int64)"
      ]
     },
     "execution_count": 49,
     "metadata": {},
     "output_type": "execute_result"
    }
   ],
   "source": [
    "train_index"
   ]
  },
  {
   "cell_type": "code",
   "execution_count": 50,
   "id": "c5f9d9e6",
   "metadata": {},
   "outputs": [
    {
     "data": {
      "text/plain": [
       "array([10, 31, 18, 27, 20, 11, 24, 33], dtype=int64)"
      ]
     },
     "execution_count": 50,
     "metadata": {},
     "output_type": "execute_result"
    }
   ],
   "source": [
    "test_index"
   ]
  },
  {
   "cell_type": "code",
   "execution_count": 51,
   "id": "daac8924",
   "metadata": {},
   "outputs": [
    {
     "data": {
      "text/plain": [
       "1    5\n",
       "0    3\n",
       "Name: Country, dtype: int64"
      ]
     },
     "execution_count": 51,
     "metadata": {},
     "output_type": "execute_result"
    }
   ],
   "source": [
    "strat_test_set['Country'].value_counts()"
   ]
  },
  {
   "cell_type": "code",
   "execution_count": 52,
   "id": "fc953e21",
   "metadata": {},
   "outputs": [
    {
     "data": {
      "text/plain": [
       "1    21\n",
       "0    10\n",
       "Name: Country, dtype: int64"
      ]
     },
     "execution_count": 52,
     "metadata": {},
     "output_type": "execute_result"
    }
   ],
   "source": [
    "strat_train_set['Country'].value_counts()"
   ]
  },
  {
   "cell_type": "code",
   "execution_count": 53,
   "id": "1fe2e9d3",
   "metadata": {},
   "outputs": [
    {
     "data": {
      "text/plain": [
       "Sold Price     1.000000\n",
       "Base Price     0.558321\n",
       "Wickets        0.238575\n",
       "MatchPlayed    0.162299\n",
       "Country       -0.051869\n",
       "EconomyRate   -0.267765\n",
       "BowlingAVG    -0.333960\n",
       "Name: Sold Price, dtype: float64"
      ]
     },
     "execution_count": 53,
     "metadata": {},
     "output_type": "execute_result"
    }
   ],
   "source": [
    "corr_matrix = bowler.corr()\n",
    "\n",
    "corr_matrix['Sold Price'].sort_values(ascending=False)"
   ]
  },
  {
   "cell_type": "code",
   "execution_count": 54,
   "id": "3ea9349e",
   "metadata": {},
   "outputs": [
    {
     "data": {
      "text/plain": [
       "Wickets        1.000000\n",
       "MatchPlayed    0.973627\n",
       "Base Price     0.483636\n",
       "Country        0.261959\n",
       "Sold Price     0.238575\n",
       "BowlingAVG    -0.448930\n",
       "EconomyRate   -0.521724\n",
       "Name: Wickets, dtype: float64"
      ]
     },
     "execution_count": 54,
     "metadata": {},
     "output_type": "execute_result"
    }
   ],
   "source": [
    "corr_matrix = bowler.corr()\n",
    "\n",
    "corr_matrix['Wickets'].sort_values(ascending=False)"
   ]
  },
  {
   "cell_type": "code",
   "execution_count": 55,
   "id": "be40a252",
   "metadata": {},
   "outputs": [],
   "source": [
    "import matplotlib.pyplot as plt"
   ]
  },
  {
   "cell_type": "code",
   "execution_count": 61,
   "id": "2e4ff1aa",
   "metadata": {},
   "outputs": [
    {
     "data": {
      "image/png": "[encoded data removed]",
      "text/plain": [
       "<Figure size 432x288 with 1 Axes>"
      ]
     },
     "metadata": {
      "needs_background": "light"
     },
     "output_type": "display_data"
    },
    {
     "data": {
      "image/png": "[encoded data removed]",
      "text/plain": [
       "<Figure size 432x288 with 1 Axes>"
      ]
     },
     "metadata": {
      "needs_background": "light"
     },
     "output_type": "display_data"
    },
    {
     "data": {
      "image/png": "[encoded data removed]",
      "text/plain": [
       "<Figure size 432x288 with 1 Axes>"
      ]
     },
     "metadata": {
      "needs_background": "light"
     },
     "output_type": "display_data"
    }
   ],
   "source": [
    "%matplotlib inline\n",
    "bowler.plot(kind=\"scatter\", x=\"Wickets\", y=\"Sold Price\", alpha=0.8)\n",
    "plt.show()\n",
    "plt.scatter(bowler['Wickets'],bowler['Country'],c='r',alpha=0.5)\n",
    "plt.show()\n",
    "bowler.plot(kind=\"scatter\", x=\"Country\", y=\"Sold Price\", alpha=0.8)\n",
    "plt.show()"
   ]
  },
  {
   "cell_type": "code",
   "execution_count": 62,
   "id": "189daf1e",
   "metadata": {},
   "outputs": [
    {
     "name": "stdout",
     "output_type": "stream",
     "text": [
      "<class 'pandas.core.frame.DataFrame'>\n",
      "Int64Index: 31 entries, 17 to 34\n",
      "Data columns (total 7 columns):\n",
      " #   Column       Non-Null Count  Dtype  \n",
      "---  ------       --------------  -----  \n",
      " 0   MatchPlayed  31 non-null     int64  \n",
      " 1   BowlingAVG   31 non-null     float64\n",
      " 2   EconomyRate  31 non-null     float64\n",
      " 3   Country      31 non-null     int64  \n",
      " 4   Base Price   31 non-null     float64\n",
      " 5   Sold Price   31 non-null     float64\n",
      " 6   Wickets      31 non-null     int64  \n",
      "dtypes: float64(4), int64(3)\n",
      "memory usage: 1.9 KB\n"
     ]
    }
   ],
   "source": [
    "strat_train_set.info()"
   ]
  },
  {
   "cell_type": "code",
   "execution_count": 63,
   "id": "a1575805",
   "metadata": {},
   "outputs": [
    {
     "name": "stdout",
     "output_type": "stream",
     "text": [
      "<class 'pandas.core.frame.DataFrame'>\n",
      "Int64Index: 8 entries, 10 to 33\n",
      "Data columns (total 7 columns):\n",
      " #   Column       Non-Null Count  Dtype  \n",
      "---  ------       --------------  -----  \n",
      " 0   MatchPlayed  8 non-null      int64  \n",
      " 1   BowlingAVG   8 non-null      float64\n",
      " 2   EconomyRate  8 non-null      float64\n",
      " 3   Country      8 non-null      int64  \n",
      " 4   Base Price   8 non-null      float64\n",
      " 5   Sold Price   8 non-null      float64\n",
      " 6   Wickets      8 non-null      int64  \n",
      "dtypes: float64(4), int64(3)\n",
      "memory usage: 512.0 bytes\n"
     ]
    }
   ],
   "source": [
    "strat_test_set.info()"
   ]
  },
  {
   "cell_type": "code",
   "execution_count": 65,
   "id": "5f7f2c13",
   "metadata": {},
   "outputs": [],
   "source": [
    "bowler = strat_train_set.drop(\"Sold Price\", axis=1)\n",
    "bowler_labels = strat_train_set[\"Sold Price\"].copy()"
   ]
  },
  {
   "cell_type": "code",
   "execution_count": 66,
   "id": "eeb5fbae",
   "metadata": {},
   "outputs": [
    {
     "name": "stdout",
     "output_type": "stream",
     "text": [
      "<class 'pandas.core.frame.DataFrame'>\n",
      "Int64Index: 31 entries, 17 to 34\n",
      "Data columns (total 6 columns):\n",
      " #   Column       Non-Null Count  Dtype  \n",
      "---  ------       --------------  -----  \n",
      " 0   MatchPlayed  31 non-null     int64  \n",
      " 1   BowlingAVG   31 non-null     float64\n",
      " 2   EconomyRate  31 non-null     float64\n",
      " 3   Country      31 non-null     int64  \n",
      " 4   Base Price   31 non-null     float64\n",
      " 5   Wickets      31 non-null     int64  \n",
      "dtypes: float64(3), int64(3)\n",
      "memory usage: 1.7 KB\n"
     ]
    }
   ],
   "source": [
    "bowler.info()"
   ]
  },
  {
   "cell_type": "code",
   "execution_count": 67,
   "id": "b2917545",
   "metadata": {},
   "outputs": [
    {
     "name": "stdout",
     "output_type": "stream",
     "text": [
      "<class 'pandas.core.series.Series'>\n",
      "Int64Index: 31 entries, 17 to 34\n",
      "Series name: Sold Price\n",
      "Non-Null Count  Dtype  \n",
      "--------------  -----  \n",
      "31 non-null     float64\n",
      "dtypes: float64(1)\n",
      "memory usage: 496.0 bytes\n"
     ]
    }
   ],
   "source": [
    "bowler_labels.info()"
   ]
  },
  {
   "cell_type": "code",
   "execution_count": 68,
   "id": "4d81a662",
   "metadata": {},
   "outputs": [
    {
     "data": {
      "text/plain": [
       "(31, 6)"
      ]
     },
     "execution_count": 68,
     "metadata": {},
     "output_type": "execute_result"
    }
   ],
   "source": [
    "bowler.shape"
   ]
  },
  {
   "cell_type": "code",
   "execution_count": 69,
   "id": "ac5f271b",
   "metadata": {},
   "outputs": [
    {
     "data": {
      "text/plain": [
       "SimpleImputer(strategy='median')"
      ]
     },
     "execution_count": 69,
     "metadata": {},
     "output_type": "execute_result"
    }
   ],
   "source": [
    "from sklearn.impute import SimpleImputer\n",
    "imputer = SimpleImputer(strategy=\"median\")\n",
    "imputer.fit(bowler)"
   ]
  },
  {
   "cell_type": "code",
   "execution_count": 70,
   "id": "8717b7c1",
   "metadata": {},
   "outputs": [],
   "source": [
    "X = imputer.transform(bowler)"
   ]
  },
  {
   "cell_type": "code",
   "execution_count": 75,
   "id": "cd5a6947",
   "metadata": {},
   "outputs": [],
   "source": [
    "bowlers_df=pd.DataFrame(X,columns=bowler.columns)"
   ]
  },
  {
   "cell_type": "code",
   "execution_count": 76,
   "id": "adb6dca4",
   "metadata": {},
   "outputs": [],
   "source": [
    "from sklearn.pipeline import Pipeline\n",
    "from sklearn.preprocessing import StandardScaler\n",
    "my_pipeline = Pipeline([\n",
    "    ('std_scaler', StandardScaler()),\n",
    "])"
   ]
  },
  {
   "cell_type": "code",
   "execution_count": 77,
   "id": "3e7fa552",
   "metadata": {},
   "outputs": [],
   "source": [
    "bowler_ = my_pipeline.fit_transform(bowlers_df)"
   ]
  },
  {
   "cell_type": "code",
   "execution_count": 74,
   "id": "93bd95cd",
   "metadata": {},
   "outputs": [
    {
     "data": {
      "text/plain": [
       "array([[-0.45142417, -0.57796742, -0.55551308, -1.44913767,  1.48233169,\n",
       "        -0.34830201],\n",
       "       [-0.50901326,  0.41288013,  1.27210039,  0.69006556, -0.9324714 ,\n",
       "        -0.53309794],\n",
       "       [-0.94093145, -0.31985952, -0.05509511, -1.44913767,  0.06185928,\n",
       "        -0.84989096],\n",
       "       [ 2.71597587, -0.70271957, -1.43668386,  0.69006556,  1.48233169,\n",
       "         2.76682939],\n",
       "       [-0.76816418,  0.60502712,  1.13067792,  0.69006556, -1.07451864,\n",
       "        -0.77069271],\n",
       "       [ 0.72915221, -0.42166875, -0.89275128,  0.69006556,  1.48233169,\n",
       "         0.57567765],\n",
       "       [-0.2786569 ,  0.97784964, -0.16388162,  0.69006556, -0.29325882,\n",
       "        -0.53309794],\n",
       "       [-0.99852054,  3.9389208 , -0.47936252, -1.44913767, -0.29325882,\n",
       "        -0.95548864],\n",
       "       [-0.36504053, -0.66256945, -0.42496926,  0.69006556, -1.07451864,\n",
       "        -0.21630491],\n",
       "       [ 0.87312494, -0.55789236, -0.78396476,  0.69006556, -0.64837692,\n",
       "         0.57567765],\n",
       "       [-0.99852054, -1.4741754 ,  1.53318803, -1.44913767, -0.29325882,\n",
       "        -0.82349154],\n",
       "       [-0.94093145, -0.14778759,  0.06457006, -1.44913767, -0.29325882,\n",
       "        -0.84989096],\n",
       "       [-1.05610963,  0.28239224,  1.22858578,  0.69006556, -1.07451864,\n",
       "        -0.95548864],\n",
       "       [ 0.98830312,  0.15047043, -1.15383892,  0.69006556, -0.64837692,\n",
       "         0.28528404],\n",
       "       [ 0.12446675, -0.65181496, -1.28438274,  0.69006556, -0.29325882,\n",
       "         0.15328695],\n",
       "       [ 0.67156312, -0.51630831,  0.29302174,  0.69006556,  1.48233169,\n",
       "         0.78687299],\n",
       "       [-0.68178054, -0.33276491, -0.46848387,  0.69006556, -0.64837692,\n",
       "        -0.61229619],\n",
       "       [ 0.35482311, -0.07465702,  0.29302174,  0.69006556, -0.64837692,\n",
       "         0.12688753],\n",
       "       [ 0.35482311, -1.04256163, -0.44672656, -1.44913767,  1.48233169,\n",
       "         1.02446776],\n",
       "       [ 2.39923587, -0.35785874, -0.12036702,  0.69006556,  1.48233169,\n",
       "         2.15964276],\n",
       "       [ 0.29723402, -0.65181496, -0.64254229,  0.69006556, -1.07451864,\n",
       "         0.28528404],\n",
       "       [-0.5953969 ,  0.24654392,  0.28214309,  0.69006556, -1.07451864,\n",
       "        -0.66509503],\n",
       "       [ 0.21085038, -0.29835053, -0.38145465,  0.69006556,  0.06185928,\n",
       "         0.07408869],\n",
       "       [-0.10588962, -0.08469455, -0.82747937,  0.69006556, -1.07451864,\n",
       "        -0.29550317],\n",
       "       [ 0.15326129,  0.69608185,  0.05369141, -1.44913767,  0.77209548,\n",
       "        -0.16350608],\n",
       "       [ 2.19767405, -0.91637555, -1.12120296,  0.69006556,  1.48233169,\n",
       "         2.68763114],\n",
       "       [ 0.00928856, -0.94290331, -1.19735352, -1.44913767,  1.48233169,\n",
       "         0.28528404],\n",
       "       [-0.68178054,  0.19348841,  0.85871163,  0.69006556, -1.07451864,\n",
       "        -0.63869561],\n",
       "       [-0.82575327,  0.64087544,  1.08716331, -1.44913767,  0.77209548,\n",
       "        -0.79709212],\n",
       "       [-0.94093145,  0.51540632,  1.43528016, -1.44913767,  0.06185928,\n",
       "        -0.87629038],\n",
       "       [-0.94093145,  2.0748082 ,  2.90389813,  0.69006556, -1.07451864,\n",
       "        -0.9026898 ]])"
      ]
     },
     "execution_count": 74,
     "metadata": {},
     "output_type": "execute_result"
    }
   ],
   "source": [
    "bowler_"
   ]
  },
  {
   "cell_type": "code",
   "execution_count": 78,
   "id": "ac8aa798",
   "metadata": {},
   "outputs": [],
   "source": [
    "#TRAINING"
   ]
  },
  {
   "cell_type": "code",
   "execution_count": 97,
   "id": "f896592d",
   "metadata": {},
   "outputs": [
    {
     "data": {
      "text/plain": [
       "RandomForestRegressor()"
      ]
     },
     "execution_count": 97,
     "metadata": {},
     "output_type": "execute_result"
    }
   ],
   "source": [
    "from sklearn.linear_model import LinearRegression\n",
    "from sklearn.tree import DecisionTreeRegressor\n",
    "from sklearn.ensemble import RandomForestRegressor\n",
    "# model = LinearRegression()\n",
    "# model = DecisionTreeRegressor()\n",
    "model = RandomForestRegressor()\n",
    "model.fit(bowler_, bowler_labels)\n",
    "# print(model.coef_)\n",
    "# print(model.intercept_)"
   ]
  },
  {
   "cell_type": "code",
   "execution_count": 98,
   "id": "d4fa8c5a",
   "metadata": {},
   "outputs": [
    {
     "data": {
      "text/plain": [
       "17    10.0\n",
       "3      0.3\n",
       "35     1.5\n",
       "4      4.2\n",
       "12     0.3\n",
       "Name: Sold Price, dtype: float64"
      ]
     },
     "execution_count": 98,
     "metadata": {},
     "output_type": "execute_result"
    }
   ],
   "source": [
    "some_data = bowler.iloc[:5]\n",
    "some_labels = bowler_labels.iloc[:5]\n",
    "some_labels"
   ]
  },
  {
   "cell_type": "code",
   "execution_count": 99,
   "id": "fce71c5e",
   "metadata": {},
   "outputs": [
    {
     "data": {
      "text/plain": [
       "array([-0.45142417, -0.57796742, -0.55551308, -1.44913767,  1.48233169,\n",
       "       -0.34830201])"
      ]
     },
     "execution_count": 99,
     "metadata": {},
     "output_type": "execute_result"
    }
   ],
   "source": [
    "prepared_data = my_pipeline.transform(some_data)\n",
    "prepared_data[0]"
   ]
  },
  {
   "cell_type": "code",
   "execution_count": 100,
   "id": "35142c5d",
   "metadata": {},
   "outputs": [
    {
     "data": {
      "text/plain": [
       "array([9.16  , 1.1125, 1.702 , 4.865 , 0.934 ])"
      ]
     },
     "execution_count": 100,
     "metadata": {},
     "output_type": "execute_result"
    }
   ],
   "source": [
    "model.predict(prepared_data)"
   ]
  },
  {
   "cell_type": "code",
   "execution_count": 101,
   "id": "0106e5a0",
   "metadata": {},
   "outputs": [
    {
     "data": {
      "text/plain": [
       "[10.0, 0.3, 1.5, 4.2, 0.3]"
      ]
     },
     "execution_count": 101,
     "metadata": {},
     "output_type": "execute_result"
    }
   ],
   "source": [
    "list(some_labels)"
   ]
  },
  {
   "cell_type": "code",
   "execution_count": 102,
   "id": "1b34f109",
   "metadata": {},
   "outputs": [
    {
     "name": "stderr",
     "output_type": "stream",
     "text": [
      "c:\\python\\lib\\site-packages\\sklearn\\base.py:443: UserWarning: X has feature names, but RandomForestRegressor was fitted without feature names\n",
      "  warnings.warn(\n"
     ]
    }
   ],
   "source": [
    "import numpy as np\n",
    "from sklearn.metrics import mean_squared_error\n",
    "bowler_predictions = model.predict(bowler)\n",
    "mse = mean_squared_error(bowler_labels, bowler_predictions)\n",
    "rmse = np.sqrt(mse)"
   ]
  },
  {
   "cell_type": "code",
   "execution_count": 104,
   "id": "2dd8366f",
   "metadata": {},
   "outputs": [
    {
     "data": {
      "text/plain": [
       "3.2522801195171445"
      ]
     },
     "execution_count": 104,
     "metadata": {},
     "output_type": "execute_result"
    }
   ],
   "source": [
    "#least error model selected\n",
    "rmse"
   ]
  },
  {
   "cell_type": "code",
   "execution_count": 105,
   "id": "9dab3898",
   "metadata": {},
   "outputs": [],
   "source": [
    "#cross validation\n"
   ]
  },
  {
   "cell_type": "code",
   "execution_count": 107,
   "id": "b9f03d29",
   "metadata": {},
   "outputs": [],
   "source": [
    "from sklearn.model_selection import cross_val_score\n",
    "scores = cross_val_score(model, bowler_, bowler_labels, scoring=\"neg_mean_squared_error\", cv=10)\n",
    "rmse_scores = np.sqrt(-scores)"
   ]
  },
  {
   "cell_type": "code",
   "execution_count": 108,
   "id": "991062da",
   "metadata": {},
   "outputs": [
    {
     "data": {
      "text/plain": [
       "array([2.79537129, 6.1313718 , 5.26739242, 2.82082083, 2.40149218,\n",
       "       2.2532974 , 4.8593217 , 1.10511617, 4.27696094, 0.3865429 ])"
      ]
     },
     "execution_count": 108,
     "metadata": {},
     "output_type": "execute_result"
    }
   ],
   "source": [
    "rmse_scores"
   ]
  },
  {
   "cell_type": "code",
   "execution_count": 109,
   "id": "d53e80e7",
   "metadata": {},
   "outputs": [],
   "source": [
    "def print_scores(scores):\n",
    "    print(\"Scores:\", scores)\n",
    "    print(\"Mean: \", scores.mean())\n",
    "    print(\"Standard deviation: \", scores.std())"
   ]
  },
  {
   "cell_type": "code",
   "execution_count": 110,
   "id": "a3e8671f",
   "metadata": {},
   "outputs": [
    {
     "name": "stdout",
     "output_type": "stream",
     "text": [
      "Scores: [2.79537129 6.1313718  5.26739242 2.82082083 2.40149218 2.2532974\n",
      " 4.8593217  1.10511617 4.27696094 0.3865429 ]\n",
      "Mean:  3.2297687635573333\n",
      "Standard deviation:  1.7583180755434065\n"
     ]
    }
   ],
   "source": [
    "print_scores(rmse_scores)"
   ]
  },
  {
   "cell_type": "code",
   "execution_count": 111,
   "id": "95e374ad",
   "metadata": {},
   "outputs": [],
   "source": [
    "#saving\n"
   ]
  },
  {
   "cell_type": "code",
   "execution_count": 117,
   "id": "71bf44a4",
   "metadata": {},
   "outputs": [
    {
     "data": {
      "text/plain": [
       "['BALL_Prediction.joblib']"
      ]
     },
     "execution_count": 117,
     "metadata": {},
     "output_type": "execute_result"
    }
   ],
   "source": [
    "from joblib import dump, load\n",
    "dump(model, 'BALL_Prediction.joblib') "
   ]
  },
  {
   "cell_type": "code",
   "execution_count": 118,
   "id": "abca1755",
   "metadata": {},
   "outputs": [],
   "source": [
    "#testing"
   ]
  },
  {
   "cell_type": "code",
   "execution_count": 119,
   "id": "8ee70b37",
   "metadata": {},
   "outputs": [
    {
     "name": "stdout",
     "output_type": "stream",
     "text": [
      "4.506255745488708\n",
      "[2.4535 2.2935 5.1315 4.5005 9.483  7.3275 1.9985 9.3865] [1.3, 4.0, 0.65, 0.5, 2.0, 7.75, 10.0, 8.0]\n"
     ]
    }
   ],
   "source": [
    "X_test = strat_test_set.drop(\"Sold Price\", axis=1)\n",
    "Y_test = strat_test_set[\"Sold Price\"].copy()\n",
    "X_test_prepared = my_pipeline.transform(X_test)\n",
    "final_predictions = model.predict(X_test_prepared)\n",
    "final_mse = mean_squared_error(Y_test, final_predictions)\n",
    "final_rmse = np.sqrt(final_mse)\n",
    "print(final_rmse)\n",
    "print(final_predictions, list(Y_test))"
   ]
  },
  {
   "cell_type": "code",
   "execution_count": 120,
   "id": "f77d1dc1",
   "metadata": {},
   "outputs": [],
   "source": [
    "#using model\n"
   ]
  },
  {
   "cell_type": "code",
   "execution_count": 138,
   "id": "17df18db",
   "metadata": {},
   "outputs": [
    {
     "data": {
      "text/plain": [
       "array([8.783])"
      ]
     },
     "execution_count": 138,
     "metadata": {},
     "output_type": "execute_result"
    }
   ],
   "source": [
    "from joblib import dump, load\n",
    "model = load('BALL_Prediction.joblib') \n",
    "features = np.array([[-0.45142417, -0.57796742, 1.55551308, 0.44913767,  10.48233169,\n",
    "        -9.34830201 ]])\n",
    "model.predict(features)"
   ]
  },
  {
   "cell_type": "code",
   "execution_count": 141,
   "id": "f8044cb7",
   "metadata": {},
   "outputs": [
    {
     "data": {
      "text/plain": [
       "array([1.1125])"
      ]
     },
     "execution_count": 141,
     "metadata": {},
     "output_type": "execute_result"
    }
   ],
   "source": [
    "from joblib import dump, load\n",
    "model = load('BALL_Prediction.joblib') \n",
    "features = np.array([[-0.50901326,  0.41288013,  1.27210039,  0.69006556, -0.9324714 ,\n",
    "        -0.53309794]])\n",
    "model.predict(features)"
   ]
  },
  {
   "cell_type": "code",
   "execution_count": null,
   "id": "960678aa",
   "metadata": {},
   "outputs": [],
   "source": []
  }
 ],
 "metadata": {
  "kernelspec": {
   "display_name": "Python 3 (ipykernel)",
   "language": "python",
   "name": "python3"
  },
  "language_info": {
   "codemirror_mode": {
    "name": "ipython",
    "version": 3
   },
   "file_extension": ".py",
   "mimetype": "text/x-python",
   "name": "python",
   "nbconvert_exporter": "python",
   "pygments_lexer": "ipython3",
   "version": "3.9.5"
  }
 },
 "nbformat": 4,
 "nbformat_minor": 5
}
